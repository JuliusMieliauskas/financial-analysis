{
 "cells": [
  {
   "cell_type": "markdown",
   "metadata": {},
   "source": [
    "This notebook is for parsing the mappings between station_id and station_name from the original .txt file to .csv file so that it is easier to work with"
   ]
  },
  {
   "cell_type": "code",
   "execution_count": 47,
   "metadata": {},
   "outputs": [],
   "source": [
    "with open('station_ids.txt', 'r') as f:\n",
    "    data = f.read().splitlines()"
   ]
  },
  {
   "cell_type": "code",
   "execution_count": 48,
   "metadata": {},
   "outputs": [],
   "source": [
    "stations = {}\n",
    "for entry in data:\n",
    "    station_id = entry[:12]\n",
    "    station_name = entry[13:45].strip()\n",
    "    stations[station_name] = station_id"
   ]
  },
  {
   "cell_type": "code",
   "execution_count": 49,
   "metadata": {},
   "outputs": [],
   "source": [
    "# saving the dictionary to csv file\n",
    "import csv\n",
    "with open('stations.csv', 'w') as f:\n",
    "    writer = csv.writer(f)\n",
    "    writer.writerow(['station_name', 'station_id'])\n",
    "    for entry in stations.items():\n",
    "        writer.writerow(entry)"
   ]
  }
 ],
 "metadata": {
  "kernelspec": {
   "display_name": "financial-analysis",
   "language": "python",
   "name": "python3"
  },
  "language_info": {
   "codemirror_mode": {
    "name": "ipython",
    "version": 3
   },
   "file_extension": ".py",
   "mimetype": "text/x-python",
   "name": "python",
   "nbconvert_exporter": "python",
   "pygments_lexer": "ipython3",
   "version": "3.12.4"
  }
 },
 "nbformat": 4,
 "nbformat_minor": 2
}
