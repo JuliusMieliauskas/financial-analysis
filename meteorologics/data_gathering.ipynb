{
 "cells": [
  {
   "cell_type": "markdown",
   "metadata": {},
   "source": [
    "This notebook focuses on gathering wind speed data for meteorological stations located on the East Shore of the Baltic Sea in Lithuania and Estonia.\n",
    "\n",
    "It uses data from 'HadISD - global sub-daily station dataset' which can be found by following the link below.\n",
    "\n",
    "Data source: https://www.metoffice.gov.uk/hadobs/hadisd/v341_202406p/"
   ]
  },
  {
   "cell_type": "code",
   "execution_count": 3,
   "metadata": {},
   "outputs": [],
   "source": [
    "import requests\n",
    "import gzip\n",
    "import pandas as pd"
   ]
  },
  {
   "cell_type": "code",
   "execution_count": 4,
   "metadata": {},
   "outputs": [],
   "source": [
    "# Takes in a meteo station id and returns the data for that station\n",
    "def get_meteo_data(meteo_station_id):\n",
    "    url = f\"https://www.metoffice.gov.uk/hadobs/hadisd/v341_202406p/data/hadisd.3.4.1.202406p_19310101-20240701_{meteo_station_id}.nc.gz\"\n",
    "    response = requests.get(url)\n",
    "    return gzip.decompress(response.content)"
   ]
  },
  {
   "cell_type": "code",
   "execution_count": 5,
   "metadata": {},
   "outputs": [],
   "source": [
    "# reads in the data for mapping the station title to ID which is used for retrieving the data\n",
    "station_df = pd.read_csv(\"stations.csv\")"
   ]
  },
  {
   "cell_type": "code",
   "execution_count": 4,
   "metadata": {},
   "outputs": [],
   "source": [
    "wanted_stations = ['KLAIPEDA', 'VIRTSU', 'RIGA', 'PALANGA INTL', 'SORVE', 'VILSANDI']"
   ]
  },
  {
   "cell_type": "code",
   "execution_count": 5,
   "metadata": {},
   "outputs": [
    {
     "name": "stdout",
     "output_type": "stream",
     "text": [
      "Getting data for KLAIPEDA (265090-99999)\n",
      "Data for KLAIPEDA saved to KLAIPEDA.nc\n",
      "Getting data for VIRTSU (261280-99999)\n",
      "Data for VIRTSU saved to VIRTSU.nc\n",
      "Getting data for RIGA (264220-99999)\n",
      "Data for RIGA saved to RIGA.nc\n",
      "Getting data for PALANGA INTL (265020-99999)\n",
      "Data for PALANGA INTL saved to PALANGA INTL.nc\n",
      "Getting data for SORVE (262180-99999)\n",
      "Data for SORVE saved to SORVE.nc\n",
      "Getting data for VILSANDI (262140-99999)\n",
      "Data for VILSANDI saved to VILSANDI.nc\n"
     ]
    }
   ],
   "source": [
    "# getting data for each of the stations in question and saving it locally\n",
    "for station in wanted_stations:\n",
    "    station_id = station_df[station_df['station_name'] == station]['station_id'].values[0]\n",
    "    print(f\"Getting data for {station} ({station_id})\")\n",
    "    data = get_meteo_data(station_id)\n",
    "    with open(f\"data/{station}.nc\", \"wb\") as f:\n",
    "        f.write(data)\n",
    "    print(f\"Data for {station} saved to {station}.nc\")"
   ]
  }
 ],
 "metadata": {
  "kernelspec": {
   "display_name": "financial-analysis",
   "language": "python",
   "name": "python3"
  },
  "language_info": {
   "codemirror_mode": {
    "name": "ipython",
    "version": 3
   },
   "file_extension": ".py",
   "mimetype": "text/x-python",
   "name": "python",
   "nbconvert_exporter": "python",
   "pygments_lexer": "ipython3",
   "version": "3.12.4"
  }
 },
 "nbformat": 4,
 "nbformat_minor": 2
}
